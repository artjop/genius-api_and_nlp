{
 "cells": [
  {
   "cell_type": "markdown",
   "id": "e8daee60-e4d0-4a14-8dc4-66bbc2dd3199",
   "metadata": {},
   "source": [
    "**import nessecary modules**"
   ]
  },
  {
   "cell_type": "code",
   "execution_count": null,
   "id": "73c4de97-0bb6-442e-a61e-82a47d758c98",
   "metadata": {},
   "outputs": [],
   "source": [
    "from bs4 import BeautifulSoup \n",
    "import requests\n",
    "import re\n",
    "import pandas as pd"
   ]
  },
  {
   "cell_type": "markdown",
   "id": "1cf8122f-6413-4494-93be-df2454b22b19",
   "metadata": {},
   "source": [
    "**connect to api**"
   ]
  },
  {
   "cell_type": "code",
   "execution_count": null,
   "id": "12c111e2-2f0a-4e32-8749-75cd5497eaf5",
   "metadata": {},
   "outputs": [],
   "source": [
    "url = f'https://api.genius.com/oauth/authorize?client_id={Client_ID}&scope=create_annotation&response_type=code'\n",
    "requests.get(url)"
   ]
  },
  {
   "cell_type": "code",
   "execution_count": null,
   "id": "2caf50f1-336f-4b59-8695-52ff09fd2da7",
   "metadata": {},
   "outputs": [],
   "source": [
    "#my private api\n",
    "App_Website_URL = 'https://pf.hse.ru/909509815.html'\n",
    "Client_ID = 'SqR_LrstmrTJx-Y-nQtDB3sTakUnAzGNhFjy1BrfPnOPctH-yXIEdEbIbE0XN2tF'\n",
    "Client_Secret = '6JQD5TnnO74NWKSMtbn-s1vCghAMCteVWzaLPFK9lI4h-tJclLkrvo96QoV2MBrFTvoFbZ6pV6rnbf78EwBYpw'\n",
    "Client_Access_Token = '-RZuj6F8pe6R7Tg7_bwy3tmISIDLnos7FOj5-ACIT6kER3nzokeHOOEPS_UWScDs'\n"
   ]
  },
  {
   "cell_type": "markdown",
   "id": "f2179712-374d-4475-aeee-76a9dff67957",
   "metadata": {},
   "source": [
    "**collect an artist id by name**\n",
    "\n",
    "in case of we can search an information about artist only by hidden id, we need to cellect it first"
   ]
  },
  {
   "cell_type": "code",
   "execution_count": null,
   "id": "4b8d0cc7-d56d-47f5-ba52-ec247d04e9ab",
   "metadata": {},
   "outputs": [],
   "source": [
    "def get_artist_id(artist_name):\n",
    "    url = 'https://api.genius.com/search'\n",
    "    headers = {'Authorization': 'Bearer ' + GENIUS_API_TOKEN}\n",
    "    params = {'q': artist_name}\n",
    "    \n",
    "    response = requests.get(url, headers=headers, params=params)\n",
    "    \n",
    "    if response.status_code == 200:\n",
    "        data = response.json()\n",
    "        artist_id = data['response']['hits'][0]['result']['primary_artist']['id']\n",
    "        return artist_id\n",
    "    else:\n",
    "        print('Error:', response.status_code)\n",
    "        return None\n",
    "\n",
    "artist_id = get_artist_id('Night-snipers')"
   ]
  },
  {
   "cell_type": "markdown",
   "id": "1b601a43-25ed-4a8f-a219-b7ef3d59e37e",
   "metadata": {},
   "source": [
    "**request a song links from id**\n",
    "\n",
    "genius can give only 50 links per page, so we use *for* construction to collect all links. Surpriselly, genius don't send an error if our page out of range, so we can put random page number"
   ]
  },
  {
   "cell_type": "code",
   "execution_count": null,
   "id": "25643a04-cac9-43e1-89a9-d826f7ca2528",
   "metadata": {},
   "outputs": [],
   "source": [
    "GENIUS_API_TOKEN = 'kayRq4mQVfs7tlzkcDADdLW-0sp4Pf-N5I3b5PbMGTJz-qHGRt8jrSDEielXXBIu'\n",
    "\n",
    "urls = []\n",
    "\n",
    "for page in range(3):\n",
    "    try:\n",
    "        url = f'https://api.genius.com/artists/{artist_id}/songs?per_page=50&page={page}'\n",
    "        headers = {'Authorization': 'Bearer ' + GENIUS_API_TOKEN}\n",
    "        \n",
    "        response = requests.get(url, headers=headers)\n",
    "        \n",
    "        if response.status_code == 200:\n",
    "            response = response.json()\n",
    "            urls_temp = [i['path'] for i in response['response']['songs']]\n",
    "            urls.extend(urls_temp)\n",
    "        else:\n",
    "            print('Error:', response.status_code)\n",
    "    except Exception as e:\n",
    "        print(':(', e)\n",
    "\n",
    "print(urls)\n"
   ]
  },
  {
   "cell_type": "markdown",
   "id": "3af2366a-b1fd-421a-88d3-f43c1e5d27f2",
   "metadata": {},
   "source": [
    "our *url* is in short form, so to use it in the future, we need to transform to normal url:"
   ]
  },
  {
   "cell_type": "code",
   "execution_count": null,
   "id": "0389fee6-b564-4a02-a1c1-d162bd64b528",
   "metadata": {},
   "outputs": [],
   "source": [
    "full_url = ['https://genius.com' + i for i in urls]"
   ]
  },
  {
   "cell_type": "markdown",
   "id": "4ab69368-6644-4503-bdbe-c120da940573",
   "metadata": {},
   "source": [
    "**Let's collect an lyrics from links**\n",
    "\n",
    "Genius API isn't convenient to scrap a lyrics in case of thay json answer and scop setting. Anyway, every genius page has the similar strucrure, so we can easy process them with BeautifulSoup"
   ]
  },
  {
   "cell_type": "code",
   "execution_count": null,
   "id": "51170d02-a80e-4634-a8f4-296a85225cc6",
   "metadata": {},
   "outputs": [],
   "source": [
    "full_df = []\n",
    "def texter(links):\n",
    "    text = []\n",
    "    page = requests.get(links)\n",
    "    soup = BeautifulSoup(page.text)\n",
    "    try:\n",
    "        lyrics_div = soup.find_all('div', {'class':'Lyrics__Container-sc-1ynbvzw-1 kUgSbL'})[0]\n",
    "    except:\n",
    "        lyrics_div = soup.find('div', {'class':'Lyrics__Container-sc-1ynbvzw-1 kUgSbL'})\n",
    "    if lyrics_div:\n",
    "        lyrics_text = lyrics_div.get_text(separator='\\n')\n",
    "        lyrics_lines = [line.strip() for line in lyrics_text.split('\\n') if line.strip()]\n",
    "        cleaned_lyrics = []\n",
    "        for line in lyrics_lines:\n",
    "            cleaned_line = re.sub(r'\\[.*?\\]', '', line)\n",
    "            cleaned_lyrics.append(cleaned_line.strip())\n",
    "        for line in cleaned_lyrics:\n",
    "            if line != '':\n",
    "                text.append(line)\n",
    "    text = ' '.join(text)\n",
    "    return text\n",
    "\n",
    "for link in full_url:\n",
    "    result = texter(link)\n",
    "    print(link)\n",
    "    full_df.append(result)"
   ]
  },
  {
   "cell_type": "markdown",
   "id": "115952f4-d154-47b8-a000-900777f45898",
   "metadata": {},
   "source": [
    "full_df is a list of lists, so we need to make one joined text in main_df:"
   ]
  },
  {
   "cell_type": "code",
   "execution_count": null,
   "id": "ccfffb06-7323-4ffb-a3ad-32240ceab25a",
   "metadata": {},
   "outputs": [],
   "source": [
    "main_df = []\n",
    "for i in full_df:\n",
    "    if i != '':\n",
    "        main_df.append(''.join(i))\n"
   ]
  }
 ],
 "metadata": {
  "kernelspec": {
   "display_name": "Python 3 (ipykernel)",
   "language": "python",
   "name": "python3"
  },
  "language_info": {
   "codemirror_mode": {
    "name": "ipython",
    "version": 3
   },
   "file_extension": ".py",
   "mimetype": "text/x-python",
   "name": "python",
   "nbconvert_exporter": "python",
   "pygments_lexer": "ipython3",
   "version": "3.10.5"
  }
 },
 "nbformat": 4,
 "nbformat_minor": 5
}
